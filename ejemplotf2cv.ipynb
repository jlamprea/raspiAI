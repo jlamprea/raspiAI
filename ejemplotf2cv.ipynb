{
 "cells": [
  {
   "cell_type": "code",
   "execution_count": 1,
   "metadata": {},
   "outputs": [],
   "source": [
    "import numpy as np"
   ]
  },
  {
   "cell_type": "code",
   "execution_count": 2,
   "metadata": {},
   "outputs": [],
   "source": [
    "import tensorflow as tf"
   ]
  },
  {
   "cell_type": "code",
   "execution_count": 3,
   "metadata": {},
   "outputs": [
    {
     "name": "stderr",
     "output_type": "stream",
     "text": [
      "Using TensorFlow backend.\n"
     ]
    }
   ],
   "source": [
    "import keras as K"
   ]
  },
  {
   "cell_type": "code",
   "execution_count": 4,
   "metadata": {},
   "outputs": [],
   "source": [
    "from keras.datasets import mnist\n",
    "(x_train,y_train),(x_test, y_test)= mnist.load_data()\n"
   ]
  },
  {
   "cell_type": "code",
   "execution_count": 5,
   "metadata": {},
   "outputs": [
    {
     "data": {
      "text/plain": [
       "<Figure size 640x480 with 1 Axes>"
      ]
     },
     "metadata": {},
     "output_type": "display_data"
    }
   ],
   "source": [
    "import matplotlib.pyplot as plt\n",
    "plt.imshow(x_train[3941],cmap=plt.cm.binary) # cambiando el numero vemos a la imagen que corresponde\n",
    "plt.show()"
   ]
  },
  {
   "cell_type": "code",
   "execution_count": 6,
   "metadata": {},
   "outputs": [
    {
     "name": "stdout",
     "output_type": "stream",
     "text": [
      "(60000, 28, 28)\n"
     ]
    },
    {
     "data": {
      "text/plain": [
       "60000"
      ]
     },
     "execution_count": 6,
     "metadata": {},
     "output_type": "execute_result"
    }
   ],
   "source": [
    "print(x_train.shape) # shape del dataset\n",
    "x_train.shape[0] # obtiene el valor de la forma del arreglo de  la posicion 0"
   ]
  },
  {
   "cell_type": "code",
   "execution_count": 7,
   "metadata": {},
   "outputs": [
    {
     "name": "stdout",
     "output_type": "stream",
     "text": [
      "3\n"
     ]
    }
   ],
   "source": [
    "print(y_train[3941])"
   ]
  },
  {
   "cell_type": "code",
   "execution_count": 8,
   "metadata": {},
   "outputs": [
    {
     "name": "stdout",
     "output_type": "stream",
     "text": [
      "3\n",
      "(60000, 28, 28)\n"
     ]
    }
   ],
   "source": [
    "print(x_train.ndim) # dimensiones del array \n",
    "print(x_train.shape)"
   ]
  },
  {
   "cell_type": "code",
   "execution_count": 9,
   "metadata": {},
   "outputs": [
    {
     "name": "stdout",
     "output_type": "stream",
     "text": [
      "uint8\n"
     ]
    }
   ],
   "source": [
    "print(x_train.dtype)# tipo de datos"
   ]
  },
  {
   "cell_type": "code",
   "execution_count": 10,
   "metadata": {},
   "outputs": [
    {
     "name": "stdout",
     "output_type": "stream",
     "text": [
      "x_train shape: (60000, 28, 28, 1)\n",
      "Number of images in x_train 60000\n",
      "Number of images in x_test 10000\n"
     ]
    }
   ],
   "source": [
    "x_train = x_train.reshape(x_train.shape[0], 28, 28, 1) # shape (6000,28,28,1) tamaño foto y canal gris 1\n",
    "x_test = x_test.reshape(x_test.shape[0], 28, 28, 1)\n",
    "input_shape = (28, 28, 1) # forma de la foto\n",
    "# Todos los valores deben ser float\n",
    "x_train = x_train.astype('float32')\n",
    "x_test = x_test.astype('float32')\n",
    "# SE normaliza con 255 para estar entre 1 y 0\n",
    "x_train /= 255\n",
    "x_test /= 255\n",
    "print('x_train shape:', x_train.shape)\n",
    "print('Number of images in x_train', x_train.shape[0])\n",
    "print('Number of images in x_test', x_test.shape[0])"
   ]
  },
  {
   "cell_type": "code",
   "execution_count": 11,
   "metadata": {},
   "outputs": [
    {
     "name": "stdout",
     "output_type": "stream",
     "text": [
      "Epoch 1/10\n",
      "60000/60000 [==============================] - 38s 628us/sample - loss: 0.2082 - accuracy: 0.9370\n",
      "Epoch 2/10\n",
      "60000/60000 [==============================] - 38s 635us/sample - loss: 0.0827 - accuracy: 0.9749\n",
      "Epoch 3/10\n",
      "60000/60000 [==============================] - 37s 615us/sample - loss: 0.0580 - accuracy: 0.9818\n",
      "Epoch 4/10\n",
      "60000/60000 [==============================] - 38s 628us/sample - loss: 0.0441 - accuracy: 0.9856\n",
      "Epoch 5/10\n",
      "60000/60000 [==============================] - 38s 629us/sample - loss: 0.0359 - accuracy: 0.9881\n",
      "Epoch 6/10\n",
      "60000/60000 [==============================] - 38s 626us/sample - loss: 0.0272 - accuracy: 0.9909\n",
      "Epoch 7/10\n",
      "60000/60000 [==============================] - 38s 635us/sample - loss: 0.0264 - accuracy: 0.9910\n",
      "Epoch 8/10\n",
      "60000/60000 [==============================] - 38s 641us/sample - loss: 0.0207 - accuracy: 0.9928\n",
      "Epoch 9/10\n",
      "60000/60000 [==============================] - 39s 649us/sample - loss: 0.0190 - accuracy: 0.9934\n",
      "Epoch 10/10\n",
      "60000/60000 [==============================] - 38s 634us/sample - loss: 0.0191 - accuracy: 0.9933\n"
     ]
    },
    {
     "data": {
      "text/plain": [
       "<tensorflow.python.keras.callbacks.History at 0x8f8ed143c8>"
      ]
     },
     "execution_count": 11,
     "metadata": {},
     "output_type": "execute_result"
    }
   ],
   "source": [
    "from tensorflow.keras.models import Sequential\n",
    "from tensorflow.keras.layers import Dense, Conv2D, Dropout, Flatten, MaxPooling2D\n",
    "\n",
    "\n",
    "\n",
    "\n",
    "model = Sequential() # se crea el modelo\n",
    "model.add(Conv2D(28, kernel_size=(3,3), input_shape=input_shape)) # se alimenta con shape 28,28,1\n",
    "model.add(MaxPooling2D(pool_size=(2, 2)))\n",
    "model.add(Flatten()) # se Flattening el arreglo para la salida\n",
    "model.add(Dense(128, activation=tf.nn.relu))\n",
    "model.add(Dropout(0.2))\n",
    "model.add(Dense(10,activation=tf.nn.softmax)) # salida de 10\n",
    "\n",
    "model.compile(optimizer='adam', \n",
    "              loss='sparse_categorical_crossentropy', \n",
    "              metrics=['accuracy'])\n",
    "model.fit(x=x_train,y=y_train, epochs=10)"
   ]
  },
  {
   "cell_type": "code",
   "execution_count": 12,
   "metadata": {},
   "outputs": [
    {
     "name": "stdout",
     "output_type": "stream",
     "text": [
      "10000/10000 [==============================] - 2s 229us/sample - loss: 0.0528 - accuracy: 0.9862\n"
     ]
    },
    {
     "data": {
      "text/plain": [
       "[0.052843894855488814, 0.9862]"
      ]
     },
     "execution_count": 12,
     "metadata": {},
     "output_type": "execute_result"
    }
   ],
   "source": [
    "model.evaluate(x_test, y_test)\n"
   ]
  },
  {
   "cell_type": "code",
   "execution_count": 433,
   "metadata": {},
   "outputs": [
    {
     "name": "stdout",
     "output_type": "stream",
     "text": [
      "9\n",
      "(1, 28, 28, 1)\n"
     ]
    },
    {
     "data": {
      "image/png": "[encoded data removed]",
      "text/plain": [
       "<Figure size 432x288 with 1 Axes>"
      ]
     },
     "metadata": {
      "needs_background": "light"
     },
     "output_type": "display_data"
    }
   ],
   "source": [
    "image_index = 4444\n",
    "plt.imshow(x_test[image_index].reshape(28, 28),cmap='Greys')\n",
    "pred = model.predict(x_test[image_index].reshape(1, 28, 28, 1))\n",
    "print(pred.argmax())\n",
    "x_prueba=x_test[image_index].reshape(1, 28, 28, 1)\n",
    "print(x_prueba.shape) # formato shape  para predecir en el modelo\n",
    "#print(x_prueba)"
   ]
  },
  {
   "cell_type": "code",
   "execution_count": 15,
   "metadata": {},
   "outputs": [
    {
     "name": "stdout",
     "output_type": "stream",
     "text": [
      "Model: \"sequential\"\n",
      "_________________________________________________________________\n",
      "Layer (type)                 Output Shape              Param #   \n",
      "=================================================================\n",
      "conv2d (Conv2D)              (None, 26, 26, 28)        280       \n",
      "_________________________________________________________________\n",
      "max_pooling2d (MaxPooling2D) (None, 13, 13, 28)        0         \n",
      "_________________________________________________________________\n",
      "flatten (Flatten)            (None, 4732)              0         \n",
      "_________________________________________________________________\n",
      "dense (Dense)                (None, 128)               605824    \n",
      "_________________________________________________________________\n",
      "dropout (Dropout)            (None, 128)               0         \n",
      "_________________________________________________________________\n",
      "dense_1 (Dense)              (None, 10)                1290      \n",
      "=================================================================\n",
      "Total params: 607,394\n",
      "Trainable params: 607,394\n",
      "Non-trainable params: 0\n",
      "_________________________________________________________________\n"
     ]
    }
   ],
   "source": [
    "model.summary() # ver como esta formado el modelo NN"
   ]
  },
  {
   "cell_type": "code",
   "execution_count": 17,
   "metadata": {},
   "outputs": [],
   "source": [
    "model.save(\"digikerascv.h5\") # salvamos el modelo entrenado"
   ]
  },
  {
   "cell_type": "code",
   "execution_count": 27,
   "metadata": {},
   "outputs": [],
   "source": [
    "import matplotlib.pyplot as plt\n",
    "import matplotlib.image as mpimg"
   ]
  },
  {
   "cell_type": "code",
   "execution_count": 448,
   "metadata": {},
   "outputs": [
    {
     "data": {
      "image/png": "[encoded data removed]",
      "text/plain": [
       "<Figure size 432x288 with 1 Axes>"
      ]
     },
     "metadata": {
      "needs_background": "light"
     },
     "output_type": "display_data"
    }
   ],
   "source": [
    "img=mpimg.imread('imaged4.png')\n",
    "imgplot = plt.imshow(img)"
   ]
  },
  {
   "cell_type": "code",
   "execution_count": 961,
   "metadata": {},
   "outputs": [],
   "source": [
    "import PIL\n",
    "from PIL import Image # modulo para redimencionar y manejar imagenes\n",
    "from PIL import ImageOps\n",
    "from PIL import ImageEnhance\n"
   ]
  },
  {
   "cell_type": "code",
   "execution_count": 1104,
   "metadata": {},
   "outputs": [],
   "source": [
    "\n",
    "imagen = (Image.open('imaged4.png').convert(\"L\"))# convierte la imagen a grises\n",
    "#imagen = ImageOps.grayscale(imagen)\n",
    "#fn = lambda x : 255 if x > 210 else 0 # funcion convierte de blanco y negro basado en un limite\n",
    "#imagen = imagen.convert('L').point(fn, mode='1')\n",
    "imagen = imagen.resize((28,28),resample=PIL.Image.NEAREST)\n",
    "imagen= ImageOps.autocontrast(imagen,cutoff=200,ignore=None)\n",
    "imagen= ImageOps.invert(imagen)\n",
    "#imagen= ImageEnhance.Brightness(imagen)\n",
    "#imagen = imagen.resize((28,28),resample=PIL.Image.NEAREST)\n",
    "#imagen= ImageEnhance.Contrast(imagen)\n",
    "#imagen= ImageOps.colorize(imagen,\"black\",\"white\", mid=None, blackpoint=0, whitepoint=255, midpoint=127)\n",
    "#imagen = np.resize(imagen, (28,28,1))\n",
    "\n",
    "imagenA= np.asarray(imagen)\n",
    "imagenA=imagenA.reshape(1,28,28,1)\n",
    "\n",
    "#im2arr = np.array(imagen)\n",
    "#im2arr = im2arr.reshape(1,28,28,1)\n",
    "#y_pred = model.predict_classes(im2arr)\n",
    "#print(y_pred)\n",
    "#imagen = np.asarray(Image.open('imaged8.jpg').convert('L'))# convierte la imagen a grises\n",
    "#print(\"imagen forma inicial \",imagen.shape)\n",
    "#imagen= Image.fromarray(imagen) # convierte un np array a formato Image\n",
    "#print(\"imagen forma fromarray \",imagen.format())\n",
    "#imagen = ImageOps.grayscale(imagen)\n",
    "#ImageOps.colorize(imagen, (0,0,0), (255,255,255))\n",
    "#imagen= ImageOps.autocontrast(imagen,cutoff=0,ignore=255) # para dar mucho contraste a la foto y dejar el fondo blanco\n",
    "#imagen= imagen.convert(\"1\") # convierte la imagen a blanco y negro\n",
    "#fn = lambda x : 255 if x > 192 else 0 # funcion convierte de blanco y negro basado en un limite\n",
    "#imagenA = imagenA.convert('L').point(fn, mode='1')\n"
   ]
  },
  {
   "cell_type": "code",
   "execution_count": 1105,
   "metadata": {},
   "outputs": [
    {
     "data": {
      "text/plain": [
       "(28, 28)"
      ]
     },
     "execution_count": 1105,
     "metadata": {},
     "output_type": "execute_result"
    }
   ],
   "source": [
    "#imagen= imagen.reshape(1,28,28,1)\n",
    "#imagen = imagen.resize((1,28,28,1),PIL.Image.NEAREST)\n",
    "np.shape(imagen)\n",
    "#print(imagenA)\n"
   ]
  },
  {
   "cell_type": "code",
   "execution_count": 1106,
   "metadata": {},
   "outputs": [
    {
     "data": {
      "text/plain": [
       "<matplotlib.image.AxesImage at 0x8fb30a21d0>"
      ]
     },
     "execution_count": 1106,
     "metadata": {},
     "output_type": "execute_result"
    },
    {
     "data": {
      "image/png": "[encoded data removed]",
      "text/plain": [
       "<Figure size 432x288 with 1 Axes>"
      ]
     },
     "metadata": {
      "needs_background": "light"
     },
     "output_type": "display_data"
    }
   ],
   "source": [
    "#plt.imshow(imagenA.reshape(28,28))\n",
    "plt.imshow(imagenA.reshape(28,28),cmap='Greys') # se vuelve a dimencionar solo para graficar"
   ]
  },
  {
   "cell_type": "code",
   "execution_count": 1107,
   "metadata": {},
   "outputs": [],
   "source": [
    "# im_final = im_gray_invert.reshape(1,28,28,1)# arreglo para otro modelo\n",
    "# file=np.array(image).reshape((3,224,224))\n",
    "#img= np.array(imagen).reshape( 28*28, )\n",
    "#img = np.array (imagen).reshape((1,28,28))# arreglo para este modelo\n",
    "#img = np.array(img).reshape(1,784)"
   ]
  },
  {
   "cell_type": "code",
   "execution_count": 1108,
   "metadata": {},
   "outputs": [
    {
     "name": "stdout",
     "output_type": "stream",
     "text": [
      "[[[[0.]\n",
      "   [0.]\n",
      "   [0.]\n",
      "   [0.]\n",
      "   [0.]\n",
      "   [0.]\n",
      "   [0.]\n",
      "   [0.]\n",
      "   [0.]\n",
      "   [0.]\n",
      "   [0.]\n",
      "   [0.]\n",
      "   [0.]\n",
      "   [0.]\n",
      "   [0.]\n",
      "   [0.]\n",
      "   [0.]\n",
      "   [0.]\n",
      "   [0.]\n",
      "   [0.]\n",
      "   [0.]\n",
      "   [0.]\n",
      "   [0.]\n",
      "   [0.]\n",
      "   [0.]\n",
      "   [0.]\n",
      "   [0.]\n",
      "   [0.]]\n",
      "\n",
      "  [[0.]\n",
      "   [0.]\n",
      "   [0.]\n",
      "   [0.]\n",
      "   [0.]\n",
      "   [0.]\n",
      "   [0.]\n",
      "   [0.]\n",
      "   [0.]\n",
      "   [0.]\n",
      "   [0.]\n",
      "   [0.]\n",
      "   [0.]\n",
      "   [0.]\n",
      "   [0.]\n",
      "   [0.]\n",
      "   [0.]\n",
      "   [0.]\n",
      "   [0.]\n",
      "   [0.]\n",
      "   [0.]\n",
      "   [0.]\n",
      "   [0.]\n",
      "   [0.]\n",
      "   [0.]\n",
      "   [0.]\n",
      "   [0.]\n",
      "   [0.]]\n",
      "\n",
      "  [[0.]\n",
      "   [0.]\n",
      "   [0.]\n",
      "   [0.]\n",
      "   [0.]\n",
      "   [0.]\n",
      "   [0.]\n",
      "   [0.]\n",
      "   [0.]\n",
      "   [0.]\n",
      "   [0.]\n",
      "   [0.]\n",
      "   [0.]\n",
      "   [0.]\n",
      "   [0.]\n",
      "   [0.]\n",
      "   [0.]\n",
      "   [0.]\n",
      "   [0.]\n",
      "   [0.]\n",
      "   [0.]\n",
      "   [0.]\n",
      "   [0.]\n",
      "   [0.]\n",
      "   [0.]\n",
      "   [0.]\n",
      "   [0.]\n",
      "   [0.]]\n",
      "\n",
      "  [[0.]\n",
      "   [0.]\n",
      "   [0.]\n",
      "   [0.]\n",
      "   [0.]\n",
      "   [0.]\n",
      "   [0.]\n",
      "   [0.]\n",
      "   [0.]\n",
      "   [0.]\n",
      "   [0.]\n",
      "   [0.]\n",
      "   [0.]\n",
      "   [0.]\n",
      "   [0.]\n",
      "   [0.]\n",
      "   [0.]\n",
      "   [0.]\n",
      "   [0.]\n",
      "   [0.]\n",
      "   [0.]\n",
      "   [0.]\n",
      "   [0.]\n",
      "   [0.]\n",
      "   [0.]\n",
      "   [0.]\n",
      "   [0.]\n",
      "   [0.]]\n",
      "\n",
      "  [[0.]\n",
      "   [0.]\n",
      "   [0.]\n",
      "   [0.]\n",
      "   [0.]\n",
      "   [0.]\n",
      "   [0.]\n",
      "   [0.]\n",
      "   [0.]\n",
      "   [0.]\n",
      "   [0.]\n",
      "   [0.]\n",
      "   [0.]\n",
      "   [0.]\n",
      "   [0.]\n",
      "   [0.]\n",
      "   [0.]\n",
      "   [0.]\n",
      "   [0.]\n",
      "   [0.]\n",
      "   [0.]\n",
      "   [0.]\n",
      "   [0.]\n",
      "   [0.]\n",
      "   [0.]\n",
      "   [0.]\n",
      "   [0.]\n",
      "   [0.]]\n",
      "\n",
      "  [[0.]\n",
      "   [0.]\n",
      "   [0.]\n",
      "   [0.]\n",
      "   [0.]\n",
      "   [0.]\n",
      "   [0.]\n",
      "   [0.]\n",
      "   [0.]\n",
      "   [0.]\n",
      "   [0.]\n",
      "   [0.]\n",
      "   [0.]\n",
      "   [0.]\n",
      "   [0.]\n",
      "   [0.]\n",
      "   [0.]\n",
      "   [0.]\n",
      "   [0.]\n",
      "   [0.]\n",
      "   [0.]\n",
      "   [0.]\n",
      "   [0.]\n",
      "   [0.]\n",
      "   [0.]\n",
      "   [0.]\n",
      "   [0.]\n",
      "   [0.]]\n",
      "\n",
      "  [[0.]\n",
      "   [0.]\n",
      "   [0.]\n",
      "   [0.]\n",
      "   [0.]\n",
      "   [0.]\n",
      "   [0.]\n",
      "   [0.]\n",
      "   [0.]\n",
      "   [0.]\n",
      "   [1.]\n",
      "   [0.]\n",
      "   [0.]\n",
      "   [0.]\n",
      "   [0.]\n",
      "   [0.]\n",
      "   [0.]\n",
      "   [0.]\n",
      "   [0.]\n",
      "   [0.]\n",
      "   [0.]\n",
      "   [0.]\n",
      "   [0.]\n",
      "   [0.]\n",
      "   [0.]\n",
      "   [0.]\n",
      "   [0.]\n",
      "   [0.]]\n",
      "\n",
      "  [[0.]\n",
      "   [0.]\n",
      "   [0.]\n",
      "   [0.]\n",
      "   [0.]\n",
      "   [0.]\n",
      "   [0.]\n",
      "   [0.]\n",
      "   [0.]\n",
      "   [0.]\n",
      "   [1.]\n",
      "   [0.]\n",
      "   [0.]\n",
      "   [0.]\n",
      "   [0.]\n",
      "   [0.]\n",
      "   [0.]\n",
      "   [0.]\n",
      "   [0.]\n",
      "   [1.]\n",
      "   [0.]\n",
      "   [0.]\n",
      "   [0.]\n",
      "   [0.]\n",
      "   [0.]\n",
      "   [0.]\n",
      "   [0.]\n",
      "   [0.]]\n",
      "\n",
      "  [[0.]\n",
      "   [0.]\n",
      "   [0.]\n",
      "   [0.]\n",
      "   [0.]\n",
      "   [0.]\n",
      "   [0.]\n",
      "   [0.]\n",
      "   [0.]\n",
      "   [0.]\n",
      "   [1.]\n",
      "   [0.]\n",
      "   [0.]\n",
      "   [0.]\n",
      "   [0.]\n",
      "   [0.]\n",
      "   [0.]\n",
      "   [0.]\n",
      "   [0.]\n",
      "   [1.]\n",
      "   [0.]\n",
      "   [0.]\n",
      "   [0.]\n",
      "   [0.]\n",
      "   [0.]\n",
      "   [0.]\n",
      "   [0.]\n",
      "   [0.]]\n",
      "\n",
      "  [[0.]\n",
      "   [0.]\n",
      "   [0.]\n",
      "   [0.]\n",
      "   [0.]\n",
      "   [0.]\n",
      "   [0.]\n",
      "   [0.]\n",
      "   [0.]\n",
      "   [0.]\n",
      "   [1.]\n",
      "   [0.]\n",
      "   [0.]\n",
      "   [0.]\n",
      "   [0.]\n",
      "   [0.]\n",
      "   [0.]\n",
      "   [0.]\n",
      "   [0.]\n",
      "   [1.]\n",
      "   [0.]\n",
      "   [0.]\n",
      "   [0.]\n",
      "   [0.]\n",
      "   [0.]\n",
      "   [0.]\n",
      "   [0.]\n",
      "   [0.]]\n",
      "\n",
      "  [[0.]\n",
      "   [0.]\n",
      "   [0.]\n",
      "   [0.]\n",
      "   [0.]\n",
      "   [0.]\n",
      "   [0.]\n",
      "   [0.]\n",
      "   [0.]\n",
      "   [0.]\n",
      "   [1.]\n",
      "   [0.]\n",
      "   [0.]\n",
      "   [0.]\n",
      "   [0.]\n",
      "   [0.]\n",
      "   [0.]\n",
      "   [0.]\n",
      "   [1.]\n",
      "   [1.]\n",
      "   [0.]\n",
      "   [0.]\n",
      "   [0.]\n",
      "   [0.]\n",
      "   [0.]\n",
      "   [0.]\n",
      "   [0.]\n",
      "   [0.]]\n",
      "\n",
      "  [[0.]\n",
      "   [0.]\n",
      "   [0.]\n",
      "   [0.]\n",
      "   [0.]\n",
      "   [0.]\n",
      "   [0.]\n",
      "   [0.]\n",
      "   [0.]\n",
      "   [0.]\n",
      "   [1.]\n",
      "   [0.]\n",
      "   [0.]\n",
      "   [0.]\n",
      "   [0.]\n",
      "   [0.]\n",
      "   [0.]\n",
      "   [0.]\n",
      "   [1.]\n",
      "   [0.]\n",
      "   [0.]\n",
      "   [0.]\n",
      "   [0.]\n",
      "   [0.]\n",
      "   [0.]\n",
      "   [0.]\n",
      "   [0.]\n",
      "   [0.]]\n",
      "\n",
      "  [[0.]\n",
      "   [0.]\n",
      "   [0.]\n",
      "   [0.]\n",
      "   [0.]\n",
      "   [0.]\n",
      "   [0.]\n",
      "   [0.]\n",
      "   [0.]\n",
      "   [0.]\n",
      "   [1.]\n",
      "   [0.]\n",
      "   [0.]\n",
      "   [0.]\n",
      "   [0.]\n",
      "   [0.]\n",
      "   [0.]\n",
      "   [0.]\n",
      "   [1.]\n",
      "   [0.]\n",
      "   [0.]\n",
      "   [0.]\n",
      "   [0.]\n",
      "   [0.]\n",
      "   [0.]\n",
      "   [0.]\n",
      "   [0.]\n",
      "   [0.]]\n",
      "\n",
      "  [[0.]\n",
      "   [0.]\n",
      "   [0.]\n",
      "   [0.]\n",
      "   [0.]\n",
      "   [0.]\n",
      "   [0.]\n",
      "   [0.]\n",
      "   [0.]\n",
      "   [1.]\n",
      "   [0.]\n",
      "   [0.]\n",
      "   [0.]\n",
      "   [0.]\n",
      "   [0.]\n",
      "   [0.]\n",
      "   [0.]\n",
      "   [0.]\n",
      "   [1.]\n",
      "   [0.]\n",
      "   [0.]\n",
      "   [0.]\n",
      "   [0.]\n",
      "   [0.]\n",
      "   [0.]\n",
      "   [0.]\n",
      "   [0.]\n",
      "   [0.]]\n",
      "\n",
      "  [[0.]\n",
      "   [0.]\n",
      "   [0.]\n",
      "   [0.]\n",
      "   [0.]\n",
      "   [0.]\n",
      "   [0.]\n",
      "   [0.]\n",
      "   [1.]\n",
      "   [0.]\n",
      "   [0.]\n",
      "   [0.]\n",
      "   [0.]\n",
      "   [0.]\n",
      "   [0.]\n",
      "   [0.]\n",
      "   [0.]\n",
      "   [0.]\n",
      "   [1.]\n",
      "   [0.]\n",
      "   [0.]\n",
      "   [0.]\n",
      "   [0.]\n",
      "   [0.]\n",
      "   [0.]\n",
      "   [0.]\n",
      "   [0.]\n",
      "   [0.]]\n",
      "\n",
      "  [[0.]\n",
      "   [0.]\n",
      "   [0.]\n",
      "   [0.]\n",
      "   [0.]\n",
      "   [0.]\n",
      "   [0.]\n",
      "   [0.]\n",
      "   [1.]\n",
      "   [1.]\n",
      "   [1.]\n",
      "   [1.]\n",
      "   [1.]\n",
      "   [1.]\n",
      "   [1.]\n",
      "   [1.]\n",
      "   [1.]\n",
      "   [1.]\n",
      "   [1.]\n",
      "   [1.]\n",
      "   [0.]\n",
      "   [0.]\n",
      "   [0.]\n",
      "   [0.]\n",
      "   [0.]\n",
      "   [0.]\n",
      "   [0.]\n",
      "   [0.]]\n",
      "\n",
      "  [[0.]\n",
      "   [0.]\n",
      "   [0.]\n",
      "   [0.]\n",
      "   [0.]\n",
      "   [0.]\n",
      "   [0.]\n",
      "   [0.]\n",
      "   [0.]\n",
      "   [0.]\n",
      "   [0.]\n",
      "   [0.]\n",
      "   [0.]\n",
      "   [0.]\n",
      "   [0.]\n",
      "   [0.]\n",
      "   [0.]\n",
      "   [0.]\n",
      "   [1.]\n",
      "   [0.]\n",
      "   [0.]\n",
      "   [0.]\n",
      "   [0.]\n",
      "   [0.]\n",
      "   [0.]\n",
      "   [0.]\n",
      "   [0.]\n",
      "   [0.]]\n",
      "\n",
      "  [[0.]\n",
      "   [0.]\n",
      "   [0.]\n",
      "   [0.]\n",
      "   [0.]\n",
      "   [0.]\n",
      "   [0.]\n",
      "   [0.]\n",
      "   [0.]\n",
      "   [0.]\n",
      "   [0.]\n",
      "   [0.]\n",
      "   [0.]\n",
      "   [0.]\n",
      "   [0.]\n",
      "   [0.]\n",
      "   [0.]\n",
      "   [0.]\n",
      "   [1.]\n",
      "   [0.]\n",
      "   [0.]\n",
      "   [0.]\n",
      "   [0.]\n",
      "   [0.]\n",
      "   [0.]\n",
      "   [0.]\n",
      "   [0.]\n",
      "   [0.]]\n",
      "\n",
      "  [[0.]\n",
      "   [0.]\n",
      "   [0.]\n",
      "   [0.]\n",
      "   [0.]\n",
      "   [0.]\n",
      "   [0.]\n",
      "   [0.]\n",
      "   [0.]\n",
      "   [0.]\n",
      "   [0.]\n",
      "   [0.]\n",
      "   [0.]\n",
      "   [0.]\n",
      "   [0.]\n",
      "   [0.]\n",
      "   [0.]\n",
      "   [0.]\n",
      "   [1.]\n",
      "   [0.]\n",
      "   [0.]\n",
      "   [0.]\n",
      "   [0.]\n",
      "   [0.]\n",
      "   [0.]\n",
      "   [0.]\n",
      "   [0.]\n",
      "   [0.]]\n",
      "\n",
      "  [[0.]\n",
      "   [0.]\n",
      "   [0.]\n",
      "   [0.]\n",
      "   [0.]\n",
      "   [0.]\n",
      "   [0.]\n",
      "   [0.]\n",
      "   [0.]\n",
      "   [0.]\n",
      "   [0.]\n",
      "   [0.]\n",
      "   [0.]\n",
      "   [0.]\n",
      "   [0.]\n",
      "   [0.]\n",
      "   [0.]\n",
      "   [0.]\n",
      "   [1.]\n",
      "   [0.]\n",
      "   [0.]\n",
      "   [0.]\n",
      "   [0.]\n",
      "   [0.]\n",
      "   [0.]\n",
      "   [0.]\n",
      "   [0.]\n",
      "   [0.]]\n",
      "\n",
      "  [[0.]\n",
      "   [0.]\n",
      "   [0.]\n",
      "   [0.]\n",
      "   [0.]\n",
      "   [0.]\n",
      "   [0.]\n",
      "   [0.]\n",
      "   [0.]\n",
      "   [0.]\n",
      "   [0.]\n",
      "   [0.]\n",
      "   [0.]\n",
      "   [0.]\n",
      "   [0.]\n",
      "   [0.]\n",
      "   [0.]\n",
      "   [0.]\n",
      "   [1.]\n",
      "   [0.]\n",
      "   [0.]\n",
      "   [0.]\n",
      "   [0.]\n",
      "   [0.]\n",
      "   [0.]\n",
      "   [0.]\n",
      "   [0.]\n",
      "   [0.]]\n",
      "\n",
      "  [[0.]\n",
      "   [0.]\n",
      "   [0.]\n",
      "   [0.]\n",
      "   [0.]\n",
      "   [0.]\n",
      "   [0.]\n",
      "   [0.]\n",
      "   [0.]\n",
      "   [0.]\n",
      "   [0.]\n",
      "   [0.]\n",
      "   [0.]\n",
      "   [0.]\n",
      "   [0.]\n",
      "   [0.]\n",
      "   [0.]\n",
      "   [0.]\n",
      "   [0.]\n",
      "   [0.]\n",
      "   [0.]\n",
      "   [0.]\n",
      "   [0.]\n",
      "   [0.]\n",
      "   [0.]\n",
      "   [0.]\n",
      "   [0.]\n",
      "   [0.]]\n",
      "\n",
      "  [[0.]\n",
      "   [0.]\n",
      "   [0.]\n",
      "   [0.]\n",
      "   [0.]\n",
      "   [0.]\n",
      "   [0.]\n",
      "   [0.]\n",
      "   [0.]\n",
      "   [0.]\n",
      "   [0.]\n",
      "   [0.]\n",
      "   [0.]\n",
      "   [0.]\n",
      "   [0.]\n",
      "   [0.]\n",
      "   [0.]\n",
      "   [0.]\n",
      "   [0.]\n",
      "   [0.]\n",
      "   [0.]\n",
      "   [0.]\n",
      "   [0.]\n",
      "   [0.]\n",
      "   [0.]\n",
      "   [0.]\n",
      "   [0.]\n",
      "   [0.]]\n",
      "\n",
      "  [[0.]\n",
      "   [0.]\n",
      "   [0.]\n",
      "   [0.]\n",
      "   [0.]\n",
      "   [0.]\n",
      "   [0.]\n",
      "   [0.]\n",
      "   [0.]\n",
      "   [0.]\n",
      "   [0.]\n",
      "   [0.]\n",
      "   [0.]\n",
      "   [0.]\n",
      "   [0.]\n",
      "   [0.]\n",
      "   [0.]\n",
      "   [0.]\n",
      "   [0.]\n",
      "   [0.]\n",
      "   [0.]\n",
      "   [0.]\n",
      "   [0.]\n",
      "   [0.]\n",
      "   [0.]\n",
      "   [0.]\n",
      "   [0.]\n",
      "   [0.]]\n",
      "\n",
      "  [[0.]\n",
      "   [0.]\n",
      "   [0.]\n",
      "   [0.]\n",
      "   [0.]\n",
      "   [0.]\n",
      "   [0.]\n",
      "   [0.]\n",
      "   [0.]\n",
      "   [0.]\n",
      "   [0.]\n",
      "   [0.]\n",
      "   [0.]\n",
      "   [0.]\n",
      "   [0.]\n",
      "   [0.]\n",
      "   [0.]\n",
      "   [0.]\n",
      "   [0.]\n",
      "   [0.]\n",
      "   [0.]\n",
      "   [0.]\n",
      "   [0.]\n",
      "   [0.]\n",
      "   [0.]\n",
      "   [0.]\n",
      "   [0.]\n",
      "   [0.]]\n",
      "\n",
      "  [[0.]\n",
      "   [0.]\n",
      "   [0.]\n",
      "   [0.]\n",
      "   [0.]\n",
      "   [0.]\n",
      "   [0.]\n",
      "   [0.]\n",
      "   [0.]\n",
      "   [0.]\n",
      "   [0.]\n",
      "   [0.]\n",
      "   [0.]\n",
      "   [0.]\n",
      "   [0.]\n",
      "   [0.]\n",
      "   [0.]\n",
      "   [0.]\n",
      "   [0.]\n",
      "   [0.]\n",
      "   [0.]\n",
      "   [0.]\n",
      "   [0.]\n",
      "   [0.]\n",
      "   [0.]\n",
      "   [0.]\n",
      "   [0.]\n",
      "   [0.]]\n",
      "\n",
      "  [[0.]\n",
      "   [0.]\n",
      "   [0.]\n",
      "   [0.]\n",
      "   [0.]\n",
      "   [0.]\n",
      "   [0.]\n",
      "   [0.]\n",
      "   [0.]\n",
      "   [0.]\n",
      "   [0.]\n",
      "   [0.]\n",
      "   [0.]\n",
      "   [0.]\n",
      "   [0.]\n",
      "   [0.]\n",
      "   [0.]\n",
      "   [0.]\n",
      "   [0.]\n",
      "   [0.]\n",
      "   [0.]\n",
      "   [0.]\n",
      "   [0.]\n",
      "   [0.]\n",
      "   [0.]\n",
      "   [0.]\n",
      "   [0.]\n",
      "   [0.]]\n",
      "\n",
      "  [[0.]\n",
      "   [0.]\n",
      "   [0.]\n",
      "   [0.]\n",
      "   [0.]\n",
      "   [0.]\n",
      "   [0.]\n",
      "   [0.]\n",
      "   [0.]\n",
      "   [0.]\n",
      "   [0.]\n",
      "   [0.]\n",
      "   [0.]\n",
      "   [0.]\n",
      "   [0.]\n",
      "   [0.]\n",
      "   [0.]\n",
      "   [0.]\n",
      "   [0.]\n",
      "   [0.]\n",
      "   [0.]\n",
      "   [0.]\n",
      "   [0.]\n",
      "   [0.]\n",
      "   [0.]\n",
      "   [0.]\n",
      "   [0.]\n",
      "   [0.]]]]\n"
     ]
    }
   ],
   "source": [
    "#img.shape\n",
    "imagenA=(imagenA)/255 # ya  dividir por 255 para escalar los grises\n",
    "print(imagenA)"
   ]
  },
  {
   "cell_type": "code",
   "execution_count": 1109,
   "metadata": {},
   "outputs": [
    {
     "data": {
      "text/plain": [
       "<matplotlib.image.AxesImage at 0x8fb30f6e48>"
      ]
     },
     "execution_count": 1109,
     "metadata": {},
     "output_type": "execute_result"
    },
    {
     "data": {
      "image/png": "[encoded data removed]",
      "text/plain": [
       "<Figure size 432x288 with 1 Axes>"
      ]
     },
     "metadata": {
      "needs_background": "light"
     },
     "output_type": "display_data"
    }
   ],
   "source": [
    "plt.imshow(imagenA.reshape(28,28),cmap='Greys')"
   ]
  },
  {
   "cell_type": "code",
   "execution_count": 1110,
   "metadata": {},
   "outputs": [],
   "source": [
    "#print(\"img\",img.shape)\n",
    "\n",
    "predic_num= model.predict(imagenA)\n",
    "\n",
    "#print(\"x_test\",x_test[22].shape)\n",
    "#x_testshape= x_test[22].reshape((1,784)) # se redimenciona para convertilo de (784, ) a (1,784)\n",
    "#print(\"x_testshape\",x_testshape.shape) # si predice si es de la forma (1,784)\n",
    "#predic_numt= model.predict(x_testshape)\n",
    "#print(x_testshape)\n"
   ]
  },
  {
   "cell_type": "code",
   "execution_count": 1111,
   "metadata": {},
   "outputs": [
    {
     "name": "stdout",
     "output_type": "stream",
     "text": [
      "[[6.7841396e-14 1.5081794e-09 1.3041925e-13 1.5899608e-14 1.0000000e+00\n",
      "  1.2553360e-12 6.2158221e-13 3.5163201e-09 1.8243226e-13 7.2947053e-14]]\n"
     ]
    }
   ],
   "source": [
    "print(predic_num)"
   ]
  },
  {
   "cell_type": "code",
   "execution_count": 1112,
   "metadata": {},
   "outputs": [
    {
     "name": "stdout",
     "output_type": "stream",
     "text": [
      " num de la foto  4\n"
     ]
    }
   ],
   "source": [
    "#print(\" numero de prueba \",np.argmax(predic_numt))\n",
    "print(\" num de la foto \",np.argmax(predic_num))"
   ]
  },
  {
   "cell_type": "code",
   "execution_count": 1023,
   "metadata": {},
   "outputs": [
    {
     "data": {
      "text/plain": [
       "<matplotlib.image.AxesImage at 0x8fb17524a8>"
      ]
     },
     "execution_count": 1023,
     "metadata": {},
     "output_type": "execute_result"
    },
    {
     "data": {
      "image/png": "[encoded data removed]",
      "text/plain": [
       "<Figure size 432x288 with 1 Axes>"
      ]
     },
     "metadata": {
      "needs_background": "light"
     },
     "output_type": "display_data"
    }
   ],
   "source": [
    "x_prueba=x_test[234].reshape(1, 28, 28, 1)\n",
    "#xtestshape = np.array (x_testshape).reshape((28,28))\n",
    "plt.imshow(x_prueba.reshape(28,28),cmap='Greys')\n",
    "#plt.imshow(x_prueba)"
   ]
  },
  {
   "cell_type": "code",
   "execution_count": 1009,
   "metadata": {},
   "outputs": [],
   "source": [
    "#imprueba = np.array (img).reshape((28,28))\n",
    "#plt.imshow(imprueba)"
   ]
  },
  {
   "cell_type": "code",
   "execution_count": 1010,
   "metadata": {},
   "outputs": [],
   "source": [
    "from keras.models import load_model\n",
    "# cargando el modelo ya entrenado\n",
    "modelonuevo= tf.keras.models.load_model('digikerascv.h5') # se cargo el modelo nuevo ya entrenado con sus pesos.\n",
    "#modelnuevo= load_model(\"digikeras.h5\",False,False)\n",
    "    "
   ]
  },
  {
   "cell_type": "code",
   "execution_count": 1012,
   "metadata": {},
   "outputs": [],
   "source": [
    "predic_numN= modelonuevo.predict(x_prueba) # se uso el modelo cargado y entrenado"
   ]
  },
  {
   "cell_type": "code",
   "execution_count": 1013,
   "metadata": {},
   "outputs": [
    {
     "name": "stdout",
     "output_type": "stream",
     "text": [
      "[[1.07124820e-09 1.92341759e-06 8.77732191e-07 4.88801390e-07\n",
      "  3.36451145e-10 1.65016317e-11 1.97310171e-17 9.99996662e-01\n",
      "  1.46245664e-08 3.45220776e-08]]\n"
     ]
    }
   ],
   "source": [
    "print(predic_numN)"
   ]
  },
  {
   "cell_type": "code",
   "execution_count": 1014,
   "metadata": {},
   "outputs": [
    {
     "name": "stdout",
     "output_type": "stream",
     "text": [
      " numero de prueba  7\n"
     ]
    }
   ],
   "source": [
    "print(\" numero de prueba \",np.argmax(predic_numN))"
   ]
  },
  {
   "cell_type": "code",
   "execution_count": null,
   "metadata": {},
   "outputs": [],
   "source": []
  }
 ],
 "metadata": {
  "kernelspec": {
   "display_name": "Python 3",
   "language": "python",
   "name": "python3"
  },
  "language_info": {
   "codemirror_mode": {
    "name": "ipython",
    "version": 3
   },
   "file_extension": ".py",
   "mimetype": "text/x-python",
   "name": "python",
   "nbconvert_exporter": "python",
   "pygments_lexer": "ipython3",
   "version": "3.6.7"
  }
 },
 "nbformat": 4,
 "nbformat_minor": 2
}
